{
  "cells": [
    {
      "cell_type": "markdown",
      "metadata": {
        "id": "view-in-github",
        "colab_type": "text"
      },
      "source": [
        "<a href=\"https://colab.research.google.com/github/wasiakaa/QWorld/blob/main/QB_B2_Math24_Dot_Product.ipynb\" target=\"_parent\"><img src=\"https://colab.research.google.com/assets/colab-badge.svg\" alt=\"Open In Colab\"/></a>"
      ]
    },
    {
      "cell_type": "markdown",
      "metadata": {
        "id": "lAcAAko0jE7X"
      },
      "source": [
        "<a href=\"https://qworld.net\" target=\"_blank\" align=\"left\"><img src=\"https://gitlab.com/qworld/qeducation/qbook101/raw/main/qworld/images/header.jpg\" align=\"left\"></a>\n",
        "$ \\newcommand{\\bra}[1]{\\langle #1|} $\n",
        "$ \\newcommand{\\ket}[1]{|#1\\rangle} $\n",
        "$ \\newcommand{\\braket}[2]{\\langle #1|#2\\rangle} $\n",
        "$ \\newcommand{\\dot}[2]{ #1 \\cdot #2} $\n",
        "$ \\newcommand{\\biginner}[2]{\\left\\langle #1,#2\\right\\rangle} $\n",
        "$ \\newcommand{\\mymatrix}[2]{\\left( \\begin{array}{#1} #2\\end{array} \\right)} $\n",
        "$ \\newcommand{\\myvector}[1]{\\mymatrix{c}{#1}} $\n",
        "$ \\newcommand{\\myrvector}[1]{\\mymatrix{r}{#1}} $\n",
        "$ \\newcommand{\\mypar}[1]{\\left( #1 \\right)} $\n",
        "$ \\newcommand{\\mybigpar}[1]{ \\Big( #1 \\Big)} $\n",
        "$ \\newcommand{\\sqrttwo}{\\frac{1}{\\sqrt{2}}} $\n",
        "$ \\newcommand{\\dsqrttwo}{\\dfrac{1}{\\sqrt{2}}} $\n",
        "$ \\newcommand{\\onehalf}{\\frac{1}{2}} $\n",
        "$ \\newcommand{\\donehalf}{\\dfrac{1}{2}} $\n",
        "$ \\newcommand{\\hadamard}{ \\mymatrix{rr}{ \\sqrttwo & \\sqrttwo \\\\ \\sqrttwo & -\\sqrttwo }} $\n",
        "$ \\newcommand{\\vzero}{\\myvector{1\\\\0}} $\n",
        "$ \\newcommand{\\vone}{\\myvector{0\\\\1}} $\n",
        "$ \\newcommand{\\stateplus}{\\myvector{ \\sqrttwo \\\\  \\sqrttwo } } $\n",
        "$ \\newcommand{\\stateminus}{ \\myrvector{ \\sqrttwo \\\\ -\\sqrttwo } } $\n",
        "$ \\newcommand{\\myarray}[2]{ \\begin{array}{#1}#2\\end{array}} $\n",
        "$ \\newcommand{\\X}{ \\mymatrix{cc}{0 & 1 \\\\ 1 & 0}  } $\n",
        "$ \\newcommand{\\I}{ \\mymatrix{rr}{1 & 0 \\\\ 0 & 1}  } $\n",
        "$ \\newcommand{\\Z}{ \\mymatrix{rr}{1 & 0 \\\\ 0 & -1}  } $\n",
        "$ \\newcommand{\\Htwo}{ \\mymatrix{rrrr}{ \\frac{1}{2} & \\frac{1}{2} & \\frac{1}{2} & \\frac{1}{2} \\\\ \\frac{1}{2} & -\\frac{1}{2} & \\frac{1}{2} & -\\frac{1}{2} \\\\ \\frac{1}{2} & \\frac{1}{2} & -\\frac{1}{2} & -\\frac{1}{2} \\\\ \\frac{1}{2} & -\\frac{1}{2} & -\\frac{1}{2} & \\frac{1}{2} } } $\n",
        "$ \\newcommand{\\CNOT}{ \\mymatrix{cccc}{1 & 0 & 0 & 0 \\\\ 0 & 1 & 0 & 0 \\\\ 0 & 0 & 0 & 1 \\\\ 0 & 0 & 1 & 0} } $\n",
        "$ \\newcommand{\\norm}[1]{ \\left\\lVert #1 \\right\\rVert } $\n",
        "$ \\newcommand{\\pstate}[1]{ \\lceil \\mspace{-1mu} #1 \\mspace{-1.5mu} \\rfloor } $\n",
        "$ \\newcommand{\\greenbit}[1] {\\mathbf{{\\color{green}#1}}} $\n",
        "$ \\newcommand{\\bluebit}[1] {\\mathbf{{\\color{blue}#1}}} $\n",
        "$ \\newcommand{\\redbit}[1] {\\mathbf{{\\color{red}#1}}} $\n",
        "$ \\newcommand{\\brownbit}[1] {\\mathbf{{\\color{brown}#1}}} $\n",
        "$ \\newcommand{\\blackbit}[1] {\\mathbf{{\\color{black}#1}}} $"
      ]
    },
    {
      "cell_type": "markdown",
      "metadata": {
        "id": "KQJFFbPrjE7Z"
      },
      "source": [
        "_prepared by Abuzer Yakaryilmaz_"
      ]
    },
    {
      "cell_type": "markdown",
      "metadata": {
        "id": "E91dllN5jE7Z"
      },
      "source": [
        "<font size=\"28px\" style=\"font-size:28px;\" align=\"left\"><b>Vectors: Dot (Scalar) Product</b></font>\n",
        "<br><br>"
      ]
    },
    {
      "cell_type": "markdown",
      "metadata": {
        "jp-MarkdownHeadingCollapsed": true,
        "id": "furOcrg4jE7Z"
      },
      "source": [
        "##### <font color=\"#08b806\">Please execute the following cell, it is necessary to distinguish between your local environment and Google Colab's"
      ]
    },
    {
      "cell_type": "code",
      "execution_count": 1,
      "metadata": {
        "id": "aV9NGySFjE7a",
        "outputId": "f8d4ecb2-e87f-4925-8f80-4aa252228ba0",
        "colab": {
          "base_uri": "https://localhost:8080/"
        }
      },
      "outputs": [
        {
          "output_type": "stream",
          "name": "stdout",
          "text": [
            "--2025-02-05 20:54:21--  https://gitlab.com/qworld/qeducation/qbook101/raw/main/qworld/include/bronze_math.py\n",
            "Resolving gitlab.com (gitlab.com)... 172.65.251.78, 2606:4700:90:0:f22e:fbec:5bed:a9b9\n",
            "Connecting to gitlab.com (gitlab.com)|172.65.251.78|:443... connected.\n",
            "HTTP request sent, awaiting response... 200 OK\n",
            "Length: 2235 (2.2K) [text/plain]\n",
            "Saving to: ‘bronze_math.py’\n",
            "\n",
            "bronze_math.py      100%[===================>]   2.18K  --.-KB/s    in 0s      \n",
            "\n",
            "2025-02-05 20:54:21 (32.3 MB/s) - ‘bronze_math.py’ saved [2235/2235]\n",
            "\n",
            "--2025-02-05 20:54:21--  https://gitlab.com/qworld/qeducation/qbook101/raw/main/qworld/include/drawing.py\n",
            "Resolving gitlab.com (gitlab.com)... 172.65.251.78, 2606:4700:90:0:f22e:fbec:5bed:a9b9\n",
            "Connecting to gitlab.com (gitlab.com)|172.65.251.78|:443... connected.\n",
            "HTTP request sent, awaiting response... 200 OK\n",
            "Length: 6260 (6.1K) [text/plain]\n",
            "Saving to: ‘drawing.py’\n",
            "\n",
            "drawing.py          100%[===================>]   6.11K  --.-KB/s    in 0s      \n",
            "\n",
            "2025-02-05 20:54:22 (60.1 MB/s) - ‘drawing.py’ saved [6260/6260]\n",
            "\n"
          ]
        }
      ],
      "source": [
        "import IPython\n",
        "\n",
        "def in_colab():\n",
        "    try:\n",
        "        import google.colab\n",
        "        return True\n",
        "    except:\n",
        "        return False\n",
        "\n",
        "path_files = \"./\" if in_colab() else \"../../../qworld/include/\"\n",
        "\n",
        "SolutionToTask1 = lambda: IPython.display.display(IPython.display.Javascript('window.open(\"{url}\");'.format(url='https://colab.research.google.com/drive/1dMkT_AGVWCe_hvyw1vPbzufkQTGkkM-6?usp=sharing#scrollTo=CWVmKRhlfmNJ' if in_colab() else 'QB_B2_Math24_Dot_Product_Solutions.ipynb#task1')))\n",
        "SolutionToTask2 = lambda: IPython.display.display(IPython.display.Javascript('window.open(\"{url}\");'.format(url='https://colab.research.google.com/drive/1dMkT_AGVWCe_hvyw1vPbzufkQTGkkM-6?usp=sharing#scrollTo=nkWd4l_WfmNJ' if in_colab() else 'QB_B2_Math24_Dot_Product_Solutions.ipynb#task2')))\n",
        "SolutionToTask3 = lambda: IPython.display.display(IPython.display.Javascript('window.open(\"{url}\");'.format(url='https://colab.research.google.com/drive/1dMkT_AGVWCe_hvyw1vPbzufkQTGkkM-6?usp=sharing#scrollTo=lBseWhD-fmNK' if in_colab() else 'QB_B2_Math24_Dot_Product_Solutions.ipynb#task3')))\n",
        "SolutionToTask4 = lambda: IPython.display.display(IPython.display.Javascript('window.open(\"{url}\");'.format(url='https://colab.research.google.com/drive/1dMkT_AGVWCe_hvyw1vPbzufkQTGkkM-6?usp=sharing#scrollTo=aeG8g_bQfmNK' if in_colab() else 'QB_B2_Math24_Dot_Product_Solutions.ipynb#task4')))\n",
        "\n",
        "if in_colab():\n",
        "    url = \"https://gitlab.com/qworld/qeducation/qbook101/raw/main/qworld/include/bronze_math.py\"\n",
        "    !wget --no-cache -O bronze_math.py {url}\n",
        "\n",
        "    url = \"https://gitlab.com/qworld/qeducation/qbook101/raw/main/qworld/include/drawing.py\"\n",
        "    !wget --no-cache -O drawing.py {url}"
      ]
    },
    {
      "cell_type": "markdown",
      "metadata": {
        "id": "d4nSR5b5jE7a"
      },
      "source": [
        "##### <i>Dot product</i> is a specific way of defining multiplication between two vectors with the same size.\n",
        "\n",
        "It is also called <i>scalar product</i>, because the result is a <i>scalar value</i>, e.g., a real number.\n",
        "\n",
        "Consider the following two vectors:\n",
        "$$\n",
        "    u = \\myrvector{-3 \\\\ -2 \\\\ 0 \\\\ -1 \\\\ 4} \\mbox{ and } v = \\myrvector{-1\\\\ -1 \\\\2 \\\\ -3 \\\\ 5}.\n",
        "$$\n",
        "\n",
        "The dot product of $ u $ and $ v $, denoted by $ \\dot{u}{v}$, can be defined algorithmically.\n",
        "\n",
        "<u>Pairwise multiplication</u>: the values in the same positions are multiplied with each other.\n",
        "\n",
        "<u>Summation of all pairwise multiplications</u>: Then we sum all the results obtained from the pairwise multiplications.\n",
        "\n",
        "We write its Python code below."
      ]
    },
    {
      "cell_type": "code",
      "execution_count": 2,
      "metadata": {
        "id": "WTGh_1eBjE7b",
        "outputId": "4f5a52fd-eb7d-4009-f434-a8681c10e001",
        "colab": {
          "base_uri": "https://localhost:8080/"
        }
      },
      "outputs": [
        {
          "output_type": "stream",
          "name": "stdout",
          "text": [
            "pairwise multiplication of the entries with index 0 is 3\n",
            "pairwise multiplication of the entries with index 1 is 2\n",
            "pairwise multiplication of the entries with index 2 is 0\n",
            "pairwise multiplication of the entries with index 3 is 3\n",
            "pairwise multiplication of the entries with index 4 is 20\n",
            "\n",
            "The dot product of [-3, -2, 0, -1, 4] and [-1, -1, 2, -3, 5] is 28\n"
          ]
        }
      ],
      "source": [
        "# let's define both vectors\n",
        "u = [-3,-2,0,-1,4]\n",
        "v = [-1,-1,2,-3,5]\n",
        "\n",
        "uv = 0; # summation is initially zero\n",
        "\n",
        "for i in range(len(u)): # iteratively access every pair with the same indices\n",
        "    print(\"pairwise multiplication of the entries with index\",i,\"is\",u[i]*v[i])\n",
        "    uv = uv + u[i]*v[i] # i-th entries are multiplied and then added to summation\n",
        "\n",
        "print() # print an empty line\n",
        "print(\"The dot product of\",u,'and',v,'is',uv)"
      ]
    },
    {
      "cell_type": "markdown",
      "metadata": {
        "id": "R38t93PYjE7b"
      },
      "source": [
        "The pairwise multiplications of entries are\n",
        "\n",
        "- $ (-3)\\cdot(-1) = 3 $,\n",
        "- $ (-2)\\cdot(-1) = 2 $,\n",
        "- $ 0\\cdot 2 = 0 $,\n",
        "- $ (-1)\\cdot(-3) = 3 $, and,\n",
        "- $ 4 \\cdot 5  = 20 $.\n",
        "\n",
        "Thus the summation of all pairwise multiplications of entries is $ 3+2+0+3+20 = 28 $.\n",
        "\n",
        "<b>Remark that the dimensions of the given vectors must be the same. Otherwise, the dot product is not defined.</b>"
      ]
    },
    {
      "cell_type": "markdown",
      "metadata": {
        "id": "1jqXRjEnjE7b"
      },
      "source": [
        "<h3> Task 1 </h3>\n",
        "\n",
        "Find the dot product of the following vectors in Python:\n",
        "\n",
        "$$\n",
        "    v = \\myrvector{-3 \\\\ 4 \\\\ -5 \\\\ 6} ~~~~\\mbox{and}~~~~ u = \\myrvector{4 \\\\ 3 \\\\ 6 \\\\ 5}.\n",
        "$$\n",
        "\n",
        "Your outcome should be $0$."
      ]
    },
    {
      "cell_type": "code",
      "execution_count": 3,
      "metadata": {
        "id": "nhSxfTmpjE7c",
        "outputId": "9f0950fc-eba2-4584-afc5-cb082860ffba",
        "colab": {
          "base_uri": "https://localhost:8080/"
        }
      },
      "outputs": [
        {
          "output_type": "stream",
          "name": "stdout",
          "text": [
            "0\n"
          ]
        }
      ],
      "source": [
        "#\n",
        "# your solution is here\n",
        "#\n",
        "v = [-3, 4, -5, 6]\n",
        "u = [4, 3, 6, 5]\n",
        "\n",
        "vu = 0\n",
        "for i in range(len(v)):\n",
        "  vu += v[i] * u[i]\n",
        "\n",
        "print(vu)"
      ]
    },
    {
      "cell_type": "markdown",
      "metadata": {
        "id": "HJa923vEjE7c"
      },
      "source": [
        "To check out our solution, run the next cell:"
      ]
    },
    {
      "cell_type": "code",
      "execution_count": 4,
      "metadata": {
        "id": "kgBWtCcrjE7c",
        "outputId": "ebf28000-f447-4ffc-a120-2aa769444392",
        "colab": {
          "base_uri": "https://localhost:8080/",
          "height": 17
        }
      },
      "outputs": [
        {
          "output_type": "display_data",
          "data": {
            "text/plain": [
              "<IPython.core.display.Javascript object>"
            ],
            "application/javascript": [
              "window.open(\"https://colab.research.google.com/drive/1dMkT_AGVWCe_hvyw1vPbzufkQTGkkM-6?usp=sharing#scrollTo=CWVmKRhlfmNJ\");"
            ]
          },
          "metadata": {}
        }
      ],
      "source": [
        "SolutionToTask1()  # show solution for task 1"
      ]
    },
    {
      "cell_type": "markdown",
      "metadata": {
        "id": "OJW_MNT-jE7c"
      },
      "source": [
        "<h3> Task 2 </h3>\n",
        "\n",
        "Let $ u = \\myrvector{ -3 \\\\ -4 } $ be a 2 dimensional vector.\n",
        "\n",
        "Find $ \\dot{u}{u} $ in Python."
      ]
    },
    {
      "cell_type": "code",
      "execution_count": 5,
      "metadata": {
        "id": "Z2RyFZuajE7c",
        "outputId": "435183c8-ebfb-46e6-c65f-aedc36b82c6a",
        "colab": {
          "base_uri": "https://localhost:8080/"
        }
      },
      "outputs": [
        {
          "output_type": "stream",
          "name": "stdout",
          "text": [
            "25\n"
          ]
        }
      ],
      "source": [
        "#\n",
        "# your solution is here\n",
        "#\n",
        "u = [-3, -4]\n",
        "\n",
        "uu = 0\n",
        "for i in range(len(u)):\n",
        "  uu += u[i]**2\n",
        "\n",
        "print(uu)"
      ]
    },
    {
      "cell_type": "markdown",
      "metadata": {
        "id": "S4gqYXxAjE7c"
      },
      "source": [
        "To check out our solution, run the next cell:"
      ]
    },
    {
      "cell_type": "code",
      "execution_count": 6,
      "metadata": {
        "id": "9o640yUzjE7c",
        "outputId": "c524b03c-feb9-4499-9d74-0de762faa663",
        "colab": {
          "base_uri": "https://localhost:8080/",
          "height": 17
        }
      },
      "outputs": [
        {
          "output_type": "display_data",
          "data": {
            "text/plain": [
              "<IPython.core.display.Javascript object>"
            ],
            "application/javascript": [
              "window.open(\"https://colab.research.google.com/drive/1dMkT_AGVWCe_hvyw1vPbzufkQTGkkM-6?usp=sharing#scrollTo=nkWd4l_WfmNJ\");"
            ]
          },
          "metadata": {}
        }
      ],
      "source": [
        "SolutionToTask2()  # show solution for task 2"
      ]
    },
    {
      "cell_type": "markdown",
      "metadata": {
        "id": "n7aVh79SjE7c"
      },
      "source": [
        "<h3> Notes:</h3>\n",
        "\n",
        "As may be observed from Task 2, the <b>length</b> of a vector can be calculated by using its <b>dot product</b> with itself.\n",
        "\n",
        "$$ \\norm{u} = \\sqrt{\\dot{u}{u}}. $$\n",
        "\n",
        "$ \\dot{u}{u} $ is $25$, and so $ \\norm{u} = \\sqrt{25} = 5 $.\n",
        "\n",
        "$ \\dot{u}{u} $ automatically accumulates the contribution of each entry to the length."
      ]
    },
    {
      "cell_type": "markdown",
      "metadata": {
        "id": "G_g8m9FAjE7c"
      },
      "source": [
        "<h3> Orthogonal (perpendicular) vectors </h3>\n",
        "\n",
        "For simplicity, we consider 2-dimensional vectors.\n",
        "\n",
        "The following two vectors are perpendicular (orthogonal) to each other.\n",
        "\n",
        "The angle between them is $ 90 $ degrees."
      ]
    },
    {
      "cell_type": "code",
      "execution_count": 7,
      "metadata": {
        "id": "mgdmD_hSjE7d",
        "outputId": "bc9732ca-202c-4dba-fdc1-695201ff3a5e",
        "colab": {
          "base_uri": "https://localhost:8080/",
          "height": 521
        }
      },
      "outputs": [
        {
          "output_type": "display_data",
          "data": {
            "text/plain": [
              "<Figure size 600x600 with 1 Axes>"
            ],
            "image/png": "[encoded data removed]"
          },
          "metadata": {}
        }
      ],
      "source": [
        "bronze_math_file = path_files+\"bronze_math.py\"\n",
        "%run $bronze_math_file\n",
        "\n",
        "dot_product(\"example1\")"
      ]
    },
    {
      "cell_type": "code",
      "execution_count": 8,
      "metadata": {
        "id": "IDdIq1lnjE7d",
        "outputId": "251edfc0-bf3c-41d6-923e-311b16ec224a",
        "colab": {
          "base_uri": "https://localhost:8080/"
        }
      },
      "outputs": [
        {
          "output_type": "stream",
          "name": "stdout",
          "text": [
            "the dot product of u and v is 0\n"
          ]
        }
      ],
      "source": [
        "# let's find the dot product of v and u\n",
        "v = [-4,0]\n",
        "u = [0,-5]\n",
        "result = 0;\n",
        "\n",
        "for i in range(2):\n",
        "    result = result + v[i]*u[i]\n",
        "\n",
        "print(\"the dot product of u and v is\",result)"
      ]
    },
    {
      "cell_type": "markdown",
      "metadata": {
        "id": "v6e-liqWjE7d"
      },
      "source": [
        "Now, let's check the dot product of the following two vectors:"
      ]
    },
    {
      "cell_type": "code",
      "execution_count": 9,
      "metadata": {
        "id": "suDXtwVjjE7d",
        "outputId": "773853e7-857f-4ff6-c2be-e448c7ce43d9",
        "colab": {
          "base_uri": "https://localhost:8080/",
          "height": 539
        }
      },
      "outputs": [
        {
          "output_type": "display_data",
          "data": {
            "text/plain": [
              "<Figure size 640x480 with 0 Axes>"
            ]
          },
          "metadata": {}
        },
        {
          "output_type": "display_data",
          "data": {
            "text/plain": [
              "<Figure size 600x600 with 1 Axes>"
            ],
            "image/png": "[encoded data removed]"
          },
          "metadata": {}
        }
      ],
      "source": [
        "bronze_math_file = path_files+\"bronze_math.py\"\n",
        "%run $bronze_math_file\n",
        "\n",
        "dot_product(\"example2\")"
      ]
    },
    {
      "cell_type": "code",
      "execution_count": 10,
      "metadata": {
        "id": "H7mGKKKCjE7d",
        "outputId": "f9ee4009-8cce-474b-a0df-8bebf2ac6096",
        "colab": {
          "base_uri": "https://localhost:8080/"
        }
      },
      "outputs": [
        {
          "output_type": "stream",
          "name": "stdout",
          "text": [
            "the dot product of u and v is 0\n"
          ]
        }
      ],
      "source": [
        "# we can use the same code\n",
        "v = [-4,3]\n",
        "u = [-3,-4]\n",
        "result = 0;\n",
        "\n",
        "for i in range(2):\n",
        "    result = result + v[i]*u[i]\n",
        "\n",
        "print(\"the dot product of u and v is\",result)"
      ]
    },
    {
      "cell_type": "markdown",
      "metadata": {
        "id": "T2vJAR9djE7e"
      },
      "source": [
        "The dot product of new $ u $ and $ v $ is also $0$.\n",
        "\n",
        "This is not surprising, because the vectors $u$ and $v$ (in both cases) are orthogonal to each other.\n",
        "\n",
        "<h3>Fact:</h3>\n",
        "<ul>\n",
        "    <li>The dot product of two orthogonal (perpendicular) vectors is zero.</li>\n",
        "    <li>If the dot product of two vectors is zero, then they are orthogonal to each other.</li>\n",
        "</ul>\n",
        "\n",
        "<i> This fact is important, because, as we will see later, orthogonal vectors (states) can be distinguished perfectly. </i>"
      ]
    },
    {
      "cell_type": "markdown",
      "metadata": {
        "id": "0PNop_rujE7e"
      },
      "source": [
        "<h3> Task 3 </h3>\n",
        "\n",
        "Verify that (i) $ u $ is orthogonal to $ -v $, (ii) $ -u $ is orthogonal to $ v $, and (iii) $ -u $ is orthogonal to $ -v $."
      ]
    },
    {
      "cell_type": "code",
      "execution_count": 11,
      "metadata": {
        "id": "DjcMFqhbjE7e",
        "outputId": "92fa82b1-7c67-40e1-bb47-192edd4c69d5",
        "colab": {
          "base_uri": "https://localhost:8080/",
          "height": 617
        }
      },
      "outputs": [
        {
          "output_type": "display_data",
          "data": {
            "text/plain": [
              "<Figure size 640x480 with 0 Axes>"
            ]
          },
          "metadata": {}
        },
        {
          "output_type": "display_data",
          "data": {
            "text/plain": [
              "<Figure size 700x700 with 1 Axes>"
            ],
            "image/png": "[encoded data removed]"
          },
          "metadata": {}
        }
      ],
      "source": [
        "bronze_math_file = path_files+\"bronze_math.py\"\n",
        "%run $bronze_math_file\n",
        "\n",
        "dot_product(\"example3\")"
      ]
    },
    {
      "cell_type": "code",
      "execution_count": 12,
      "metadata": {
        "id": "dpq86zAzjE7e",
        "outputId": "2bf7658a-d421-4667-f606-be6f03636baf",
        "colab": {
          "base_uri": "https://localhost:8080/"
        }
      },
      "outputs": [
        {
          "output_type": "stream",
          "name": "stdout",
          "text": [
            "0 0 0\n"
          ]
        }
      ],
      "source": [
        "# you may consider to write a function in Python for dot product\n",
        "\n",
        "#\n",
        "# your solution is here\n",
        "#\n",
        "u = [-3, -4]\n",
        "v = [-4, 3]\n",
        "minus_u = [3, 4]\n",
        "minus_v = [4, -3]\n",
        "\n",
        "u_minv = 0\n",
        "minu_v = 0\n",
        "minu_minv = 0\n",
        "for i in range(len(u)):\n",
        "  u_minv += u[i] * minus_v[i]\n",
        "  minu_v += minus_u[i] * v[i]\n",
        "  minu_minv += minus_u[i] * minus_v[i]\n",
        "\n",
        "print(u_minv, minu_v, minu_minv)"
      ]
    },
    {
      "cell_type": "markdown",
      "metadata": {
        "id": "kONjdm9SjE7e"
      },
      "source": [
        "To check out our solution, run the next cell:"
      ]
    },
    {
      "cell_type": "code",
      "execution_count": 13,
      "metadata": {
        "id": "qlfuL8ncjE7e",
        "outputId": "e072ad5d-b88a-4585-92a9-393048cf6ec7",
        "colab": {
          "base_uri": "https://localhost:8080/",
          "height": 17
        }
      },
      "outputs": [
        {
          "output_type": "display_data",
          "data": {
            "text/plain": [
              "<IPython.core.display.Javascript object>"
            ],
            "application/javascript": [
              "window.open(\"https://colab.research.google.com/drive/1dMkT_AGVWCe_hvyw1vPbzufkQTGkkM-6?usp=sharing#scrollTo=lBseWhD-fmNK\");"
            ]
          },
          "metadata": {}
        }
      ],
      "source": [
        "SolutionToTask3()  # show solution for task 3"
      ]
    },
    {
      "cell_type": "markdown",
      "metadata": {
        "id": "UpXC5XO8jE7e"
      },
      "source": [
        "<h3> Task 4 </h3>\n",
        "\n",
        "Find the dot product of $ v $ and $ u $ in Python.\n",
        "\n",
        "$$\n",
        "    v = \\myrvector{-1 \\\\ 2 \\\\ -3 \\\\ 4} ~~~~\\mbox{and}~~~~ u = \\myrvector{-2 \\\\ -1 \\\\ 5 \\\\ 2}.\n",
        "$$\n",
        "\n",
        "Find the dot product of $ -2v $ and $ 3u $ in Python.\n",
        "\n",
        "Compare both results."
      ]
    },
    {
      "cell_type": "code",
      "execution_count": 17,
      "metadata": {
        "id": "K-eKaKw2jE7e",
        "outputId": "3ce60823-c8f4-4f13-9378-6330e5ea5b65",
        "colab": {
          "base_uri": "https://localhost:8080/"
        }
      },
      "outputs": [
        {
          "output_type": "stream",
          "name": "stdout",
          "text": [
            "-7 42\n"
          ]
        }
      ],
      "source": [
        "#\n",
        "# your solution is here\n",
        "#\n",
        "v = [-1, 2, -3, 4]\n",
        "u = [-2, -1, 5, 2]\n",
        "mintwov = [2, -4, 6, -8]\n",
        "threeu = [-6, -3, 15, 6]\n",
        "\n",
        "def dot_prod(vec1, vec2):\n",
        "  dot = 0\n",
        "  for i in range(len(v)):\n",
        "    dot += vec1[i] * vec2[i]\n",
        "  return dot\n",
        "\n",
        "print(dot_prod(v,u), dot_prod(mintwov,threeu))"
      ]
    },
    {
      "cell_type": "markdown",
      "metadata": {
        "id": "suQoL3AGjE7e"
      },
      "source": [
        "To check out our solution, run the next cell:"
      ]
    },
    {
      "cell_type": "code",
      "execution_count": 15,
      "metadata": {
        "id": "DWo9ktptjE7e",
        "outputId": "de4f10a4-7b15-4758-84e7-41542aeff73b",
        "colab": {
          "base_uri": "https://localhost:8080/",
          "height": 17
        }
      },
      "outputs": [
        {
          "output_type": "display_data",
          "data": {
            "text/plain": [
              "<IPython.core.display.Javascript object>"
            ],
            "application/javascript": [
              "window.open(\"https://colab.research.google.com/drive/1dMkT_AGVWCe_hvyw1vPbzufkQTGkkM-6?usp=sharing#scrollTo=aeG8g_bQfmNK\");"
            ]
          },
          "metadata": {}
        }
      ],
      "source": [
        "SolutionToTask4()  # show solution for task 4"
      ]
    }
  ],
  "metadata": {
    "kernelspec": {
      "display_name": "Python 3 (ipykernel)",
      "language": "python",
      "name": "python3"
    },
    "language_info": {
      "codemirror_mode": {
        "name": "ipython",
        "version": 3
      },
      "file_extension": ".py",
      "mimetype": "text/x-python",
      "name": "python",
      "nbconvert_exporter": "python",
      "pygments_lexer": "ipython3",
      "version": "3.11.4"
    },
    "colab": {
      "provenance": [],
      "collapsed_sections": [
        "furOcrg4jE7Z"
      ],
      "include_colab_link": true
    }
  },
  "nbformat": 4,
  "nbformat_minor": 0
}